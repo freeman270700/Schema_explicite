{
 "cells": [
  {
   "cell_type": "code",
   "execution_count": 1,
   "metadata": {},
   "outputs": [],
   "source": [
    "import matplotlib.pyplot as plt\n",
    "from numpy import linspace, ones, max, abs\n",
    "from math import sin, pi"
   ]
  },
  {
   "cell_type": "code",
   "execution_count": 2,
   "metadata": {},
   "outputs": [],
   "source": [
    "K = 2*10e-6\n",
    "dz = 0.25\n",
    "Nz = 400\n",
    "Nt = 5000\n",
    "dt = (365*24*60*60)/Nt"
   ]
  },
  {
   "cell_type": "code",
   "execution_count": 7,
   "metadata": {},
   "outputs": [
    {
     "name": "stdout",
     "output_type": "stream",
     "text": [
      "401\n"
     ]
    }
   ],
   "source": [
    "u = ones((Nz+1, Nt+1))\n",
    "#affiche la taille de temp\n",
    "temp = linspace(0,12,Nt+1)\n",
    "u = 15 * u\n",
    "#pour i allant de 0 à Nt\n",
    "for i in range(0,Nt+1):\n",
    "    u[0, i] = 15 - 10 * sin(2*pi*temp[i]/12)\n",
    "eps = 1e-4\n",
    "maxiter = 500\n",
    "\n",
    "profondeur = linspace(0,Nz,Nz+1)"
   ]
  },
  {
   "cell_type": "code",
   "execution_count": 5,
   "metadata": {},
   "outputs": [
    {
     "name": "stderr",
     "output_type": "stream",
     "text": [
      "C:\\Users\\qdesa\\AppData\\Local\\Temp\\ipykernel_1288\\3024859680.py:6: RuntimeWarning: overflow encountered in double_scalars\n",
      "  profondeur[j] = ((u[j-2,i-1]) - 2*(u[j-1,i-1]) + (u[j,i-1]))/dz**2\n",
      "C:\\Users\\qdesa\\AppData\\Local\\Temp\\ipykernel_1288\\3024859680.py:12: RuntimeWarning: invalid value encountered in subtract\n",
      "  diff = max(abs(u-uold))\n"
     ]
    },
    {
     "ename": "KeyboardInterrupt",
     "evalue": "",
     "output_type": "error",
     "traceback": [
      "\u001b[1;31m---------------------------------------------------------------------------\u001b[0m",
      "\u001b[1;31mKeyboardInterrupt\u001b[0m                         Traceback (most recent call last)",
      "Cell \u001b[1;32mIn [5], line 9\u001b[0m\n\u001b[0;32m      7\u001b[0m     temps_1D \u001b[39m=\u001b[39m K\u001b[39m*\u001b[39mprofondeur  \n\u001b[0;32m      8\u001b[0m     u[\u001b[39m1\u001b[39m:Nz\u001b[39m-\u001b[39m\u001b[39m2\u001b[39m,i] \u001b[39m=\u001b[39m dt\u001b[39m*\u001b[39mtemps_1D[\u001b[39m1\u001b[39m:Nz\u001b[39m-\u001b[39m\u001b[39m2\u001b[39m] \u001b[39m+\u001b[39m u[\u001b[39m1\u001b[39m:Nz\u001b[39m-\u001b[39m\u001b[39m2\u001b[39m,i\u001b[39m-\u001b[39m\u001b[39m1\u001b[39m] \n\u001b[1;32m----> 9\u001b[0m     u[Nz\u001b[39m-\u001b[39m\u001b[39m1\u001b[39m,i] \u001b[39m=\u001b[39m u[Nz\u001b[39m-\u001b[39m\u001b[39m2\u001b[39m,i]\n\u001b[0;32m     11\u001b[0m \u001b[39m#trouver le maximum en valeur absolue entre deux solutions u et uold\u001b[39;00m\n\u001b[0;32m     12\u001b[0m diff \u001b[39m=\u001b[39m \u001b[39mmax\u001b[39m(\u001b[39mabs\u001b[39m(u\u001b[39m-\u001b[39muold))\n",
      "\u001b[1;31mKeyboardInterrupt\u001b[0m: "
     ]
    }
   ],
   "source": [
    "for iter in range(0 , maxiter) : \n",
    "    uold = u.copy()\n",
    "    u[:,0] = uold[:,Nt]\n",
    "    for i in range(1, Nt+1):\n",
    "        for j in range(2, Nz+1):\n",
    "            profondeur[j] = ((u[j-2,i-1]) - 2*(u[j-1,i-1]) + (u[j,i-1]))/dz**2\n",
    "        temps_1D = K*profondeur\n",
    "        u[1:Nz-2,i] = dt*temps_1D[1:Nz-2] + u[1:Nz-2,i-1] \n",
    "        u[Nz-1,i] = u[Nz-2,i]\n",
    "\n",
    "    #trouver le maximum en valeur absolue entre deux solutions u et uold\n",
    "    if(max(abs(u-uold)) < eps):\n",
    "        break"
   ]
  },
  {
   "cell_type": "code",
   "execution_count": null,
   "metadata": {},
   "outputs": [],
   "source": [
    "#sortie graphique variation de la température en fonction de la profondeur\n",
    "plt.figure()\n",
    "plt.ylabel('Température (°C)')\n",
    "plt.plot(temp,u[0,:], 'r')\n",
    "plt.plot(temp,u[20,:], 'r')\n",
    "plt.plot(temp,u[40,:], 'b')\n",
    "plt.plot(temp,u[60,:], 'b')\n",
    "plt.plot(temp,u[80,:], 'g')\n",
    "plt.show()"
   ]
  }
 ],
 "metadata": {
  "kernelspec": {
   "display_name": "Python 3.10.7 64-bit",
   "language": "python",
   "name": "python3"
  },
  "language_info": {
   "codemirror_mode": {
    "name": "ipython",
    "version": 3
   },
   "file_extension": ".py",
   "mimetype": "text/x-python",
   "name": "python",
   "nbconvert_exporter": "python",
   "pygments_lexer": "ipython3",
   "version": "3.10.7"
  },
  "orig_nbformat": 4,
  "vscode": {
   "interpreter": {
    "hash": "ba8719f22aec4b0a7f4ea392cdf6257b183f543dc18f4206b740c09071aeaf38"
   }
  }
 },
 "nbformat": 4,
 "nbformat_minor": 2
}
